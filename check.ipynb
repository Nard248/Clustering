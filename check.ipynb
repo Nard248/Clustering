{
 "cells": [
  {
   "cell_type": "code",
   "execution_count": 1,
   "metadata": {
    "collapsed": true
   },
   "outputs": [],
   "source": [
    "import pandas as pd\n",
    "import numpy as np"
   ]
  },
  {
   "cell_type": "code",
   "execution_count": 2,
   "outputs": [],
   "source": [
    "df = pd.read_excel('Check.xlsx')"
   ],
   "metadata": {
    "collapsed": false
   }
  },
  {
   "cell_type": "code",
   "execution_count": 4,
   "outputs": [
    {
     "name": "stdout",
     "output_type": "stream",
     "text": [
      "nan\n",
      "Series([], Name: label, dtype: int64)\n",
      "Low\n",
      "1    645\n",
      "0    232\n",
      "2     50\n",
      "Name: label, dtype: int64\n",
      "FreeRoll\n",
      "1    562\n",
      "0     43\n",
      "2      7\n",
      "Name: label, dtype: int64\n",
      "High\n",
      "0    1\n",
      "Name: label, dtype: int64\n",
      "Medium\n",
      "2    3\n",
      "0    1\n",
      "Name: label, dtype: int64\n"
     ]
    }
   ],
   "source": [
    "for i in df['Label From History'].unique():\n",
    "    print(i)\n",
    "    print(df[df['Label From History'] == i].label.value_counts())"
   ],
   "metadata": {
    "collapsed": false
   }
  },
  {
   "cell_type": "code",
   "execution_count": 21,
   "outputs": [
    {
     "name": "stderr",
     "output_type": "stream",
     "text": [
      "C:\\Users\\narek.meloyan\\AppData\\Local\\Temp\\ipykernel_12332\\2324966188.py:52: UserWarning: pandas only supports SQLAlchemy connectable (engine/connection) or database string URI or sqlite3 DBAPI2 connection. Other DBAPI2 objects are not tested. Please consider using SQLAlchemy.\n",
      "  df = pd.read_sql(query, cnx, index_col='TOTOID')\n"
     ]
    }
   ],
   "source": [
    "import pyodbc\n",
    "cnx: pyodbc.Connection = pyodbc.connect(\n",
    "\"Driver={ODBC Driver 17 for SQL Server};\"\n",
    "\"Server=DWH;\"\n",
    "\"Database=dwOper;\"\n",
    "\"Trusted_Connection=yes;\")\n",
    "query = f\"\"\"\n",
    "SELECT a.TOTOID,\n",
    "    SUM(a.DepositCount) AS DepositCount,\n",
    "    SUM(a.DepositAmount) AS DepositAmount,\n",
    "    MAX(a.Age) AS Age,\n",
    "    a.Timeline\n",
    "FROM\n",
    "(SELECT cu.PartnerUserID AS TOTOID,\n",
    "    COUNT(p.PaymentID) DepositCount,\n",
    "    SUM(p.Amount) DepositAmount,\n",
    "    MAX(DATEDIFF(YEAR, cu.BirthDate, CAST(GETDATE() AS DATE))) AS Age,\n",
    "    CASE\n",
    "    WHEN cu.RegistrationDate <= '2020-01-01' THEN 'old'\n",
    "    WHEN cu.RegistrationDate <= '2021-01-01' THEN '3 year new'\n",
    "    ELSE '2 year new'\n",
    "END AS Timeline\n",
    "FROM Payment p\n",
    "INNER JOIN VIEW_PlatformPartnerUsers_TotogamingAm cu ON p.UserID = cu.UserID\n",
    "LEFT JOIN C_PaymentSystem sp ON sp.PaymentSystemId = p.PaymentSystemID\n",
    "WHERE CAST(p.modify_date AS DATE) <= CAST(DATEADD(MONTH, 6, CAST(cu.RegistrationDate AS DATE)) AS DATE)\n",
    "    AND p.PaymentStatusID = 8\n",
    "    AND p.PaymentTypeID = 2\n",
    "    AND sp.PaymentSystemName NOT IN ('BONUS', 'CasinoTransfer', 'Casino Transfer', 'PokerTransfer', 'TRANSFER')\n",
    "GROUP BY cu.PartnerUserID, cu.RegistrationDate\n",
    "UNION\n",
    "SELECT cu.PartnerUserID AS TOTOID,\n",
    "    COUNT(p.PaymentID) DepositCount,\n",
    "    SUM(p.Amount) DepositAmount,\n",
    "    MAX(DATEDIFF(YEAR, cu.BirthDate, CAST(GETDATE() AS DATE))) AS Age,\n",
    "    CASE\n",
    "    WHEN cu.RegistrationDate <= '2020-01-01' THEN 'old'\n",
    "    WHEN cu.RegistrationDate <= '2021-01-01' THEN '3 year new'\n",
    "    ELSE '2 year new'\n",
    "    END AS Timeline\n",
    "    FROM Payment p\n",
    "INNER JOIN VIEW_sport_PartnerUser_TotogamingAm cu ON p.UserID = cu.UserID\n",
    "LEFT JOIN C_PaymentSystem sp ON sp.PaymentSystemId = p.PaymentSystemID\n",
    "WHERE CAST(p.modify_date AS DATE) <= CAST(DATEADD(MONTH, 6, CAST(cu.RegistrationDate AS DATE)) AS DATE)\n",
    "    AND p.PaymentStatusID = 8\n",
    "    AND p.PaymentTypeID = 2\n",
    "    AND sp.PaymentSystemName NOT IN ('BONUS', 'CasinoTransfer', 'Casino Transfer', 'PokerTransfer', 'TRANSFER')\n",
    "GROUP BY cu.PartnerUserID, cu.RegistrationDate) a\n",
    "GROUP BY a.TOTOID, a.Timeline\n",
    "ORDER BY TOTOID\n",
    "\"\"\"\n",
    "df = pd.read_sql(query, cnx, index_col='TOTOID')\n",
    "cnx.close()"
   ],
   "metadata": {
    "collapsed": false
   }
  },
  {
   "cell_type": "code",
   "execution_count": 22,
   "outputs": [
    {
     "name": "stdout",
     "output_type": "stream",
     "text": [
      "133352.1556430061 30.10705869288949 1813387.7108707326 79.00654906021961\n",
      "186186.34500962947 45.52260868133858 3913725.5033901553 110.09555787042555\n",
      "210412.8746777991 56.72458492254494 2502040.570997709 122.48013724767408\n"
     ]
    }
   ],
   "source": [
    "df_new_2 = df[df.Timeline == '2 year new']\n",
    "df_new_3 = df[df.Timeline == '3 year new']\n",
    "df_old = df[df.Timeline == 'old']\n",
    "print(np.mean(df_old['DepositAmount']), np.mean(df_old['DepositCount']), np.std(df_old['DepositAmount']), np.std(df_old['DepositCount']))\n",
    "print(np.mean(df_new_3['DepositAmount']), np.mean(df_new_3['DepositCount']), np.std(df_new_3['DepositAmount']), np.std(df_new_3['DepositCount']))\n",
    "print(np.mean(df_new_2['DepositAmount']), np.mean(df_new_2['DepositCount']), np.std(df_new_2['DepositAmount']), np.std(df_new_2['DepositCount']))\n"
   ],
   "metadata": {
    "collapsed": false
   }
  },
  {
   "cell_type": "markdown",
   "source": [
    "#### From here we see that old and new customers' mean differs according to deposit count and amount\n",
    "###### So for purposes of balancing and getting more precise result will be more efficient to pick users that registered relatively close(In this case it becomes over 3 years period which is normal measure at statistical sight)"
   ],
   "metadata": {
    "collapsed": false
   }
  },
  {
   "cell_type": "code",
   "execution_count": 14,
   "outputs": [
    {
     "name": "stderr",
     "output_type": "stream",
     "text": [
      "C:\\Users\\narek.meloyan\\AppData\\Local\\Temp\\ipykernel_12332\\2348837927.py:19: UserWarning: pandas only supports SQLAlchemy connectable (engine/connection) or database string URI or sqlite3 DBAPI2 connection. Other DBAPI2 objects are not tested. Please consider using SQLAlchemy.\n",
      "  users_3_years = pd.read_sql(query, cnx, index_col='TOTOID')\n"
     ]
    }
   ],
   "source": [
    "cnx: pyodbc.Connection = pyodbc.connect(\n",
    "    \"Driver={ODBC Driver 17 for SQL Server};\"\n",
    "    \"Server=DWH;\"\n",
    "    \"Database=dwOper;\"\n",
    "    \"Trusted_Connection=yes;\")\n",
    "query = f\"\"\"\n",
    "SELECT cu.PartnerUserID                                      AS TOTOID,\n",
    "       cu.UserID                                             AS UserID,\n",
    "       DATEDIFF(YEAR, cu.BirthDate, CAST(GETDATE() AS DATE)) AS Age,\n",
    "       IIF(CAST(cu.RegistrationDate AS DATE) > CAST(su.RegistrationDate AS DATE), CAST(su.RegistrationDate AS DATE),\n",
    "           CAST(cu.RegistrationDate AS DATE))                AS RegDate\n",
    "FROM VIEW_PlatformPartnerUsers_TotogamingAm cu\n",
    "    LEFT JOIN VIEW_sport_PartnerUser_TotogamingAm su ON cu.PartnerUserId = su.PartnerUserId\n",
    "WHERE cu.RegistrationDate >= '2020-01-01'\n",
    "  AND DATEDIFF(DAY, CAST(su.RegistrationDate AS DATE), CAST(cu.RegistrationDate AS DATE)) <= 5\n",
    "  AND DATEDIFF(DAY, CAST(su.RegistrationDate AS DATE), CAST(cu.RegistrationDate AS DATE)) >= -5\n",
    "GROUP BY cu.PartnerUserID, cu.UserID, cu.RegistrationDate, su.RegistrationDate, DATEDIFF(YEAR, cu.BirthDate, CAST(GETDATE() AS DATE))\n",
    "\"\"\"\n",
    "users_3_years = pd.read_sql(query, cnx, index_col='TOTOID')\n",
    "cnx.close()"
   ],
   "metadata": {
    "collapsed": false
   }
  },
  {
   "cell_type": "code",
   "execution_count": 15,
   "outputs": [
    {
     "data": {
      "text/plain": "             UserID  Age     RegDate\nTOTOID                              \n100738319  10556123   43  2020-01-24\n100756775  11301624   32  2020-03-17\n100987885  12254546   43  2020-06-26\n101020642  13913613   26  2020-10-28\n101028645  14628656   25  2020-12-04\n...             ...  ...         ...\n101176305  23518934   26  2022-01-23\n101127295  19869165   26  2021-08-23\n101043287  15297779   46  2021-01-11\n101216333  27106000   21  2022-05-22\n101021201  13958615   46  2020-10-30\n\n[300448 rows x 3 columns]",
      "text/html": "<div>\n<style scoped>\n    .dataframe tbody tr th:only-of-type {\n        vertical-align: middle;\n    }\n\n    .dataframe tbody tr th {\n        vertical-align: top;\n    }\n\n    .dataframe thead th {\n        text-align: right;\n    }\n</style>\n<table border=\"1\" class=\"dataframe\">\n  <thead>\n    <tr style=\"text-align: right;\">\n      <th></th>\n      <th>UserID</th>\n      <th>Age</th>\n      <th>RegDate</th>\n    </tr>\n    <tr>\n      <th>TOTOID</th>\n      <th></th>\n      <th></th>\n      <th></th>\n    </tr>\n  </thead>\n  <tbody>\n    <tr>\n      <th>100738319</th>\n      <td>10556123</td>\n      <td>43</td>\n      <td>2020-01-24</td>\n    </tr>\n    <tr>\n      <th>100756775</th>\n      <td>11301624</td>\n      <td>32</td>\n      <td>2020-03-17</td>\n    </tr>\n    <tr>\n      <th>100987885</th>\n      <td>12254546</td>\n      <td>43</td>\n      <td>2020-06-26</td>\n    </tr>\n    <tr>\n      <th>101020642</th>\n      <td>13913613</td>\n      <td>26</td>\n      <td>2020-10-28</td>\n    </tr>\n    <tr>\n      <th>101028645</th>\n      <td>14628656</td>\n      <td>25</td>\n      <td>2020-12-04</td>\n    </tr>\n    <tr>\n      <th>...</th>\n      <td>...</td>\n      <td>...</td>\n      <td>...</td>\n    </tr>\n    <tr>\n      <th>101176305</th>\n      <td>23518934</td>\n      <td>26</td>\n      <td>2022-01-23</td>\n    </tr>\n    <tr>\n      <th>101127295</th>\n      <td>19869165</td>\n      <td>26</td>\n      <td>2021-08-23</td>\n    </tr>\n    <tr>\n      <th>101043287</th>\n      <td>15297779</td>\n      <td>46</td>\n      <td>2021-01-11</td>\n    </tr>\n    <tr>\n      <th>101216333</th>\n      <td>27106000</td>\n      <td>21</td>\n      <td>2022-05-22</td>\n    </tr>\n    <tr>\n      <th>101021201</th>\n      <td>13958615</td>\n      <td>46</td>\n      <td>2020-10-30</td>\n    </tr>\n  </tbody>\n</table>\n<p>300448 rows × 3 columns</p>\n</div>"
     },
     "execution_count": 15,
     "metadata": {},
     "output_type": "execute_result"
    }
   ],
   "source": [
    "users_3_years"
   ],
   "metadata": {
    "collapsed": false
   }
  },
  {
   "cell_type": "code",
   "execution_count": 16,
   "outputs": [
    {
     "name": "stderr",
     "output_type": "stream",
     "text": [
      "C:\\Users\\narek.meloyan\\AppData\\Local\\Temp\\ipykernel_12332\\3938028672.py:19: UserWarning: pandas only supports SQLAlchemy connectable (engine/connection) or database string URI or sqlite3 DBAPI2 connection. Other DBAPI2 objects are not tested. Please consider using SQLAlchemy.\n",
      "  users_2_years = pd.read_sql(query, cnx, index_col='TOTOID')\n"
     ]
    }
   ],
   "source": [
    "cnx: pyodbc.Connection = pyodbc.connect(\n",
    "    \"Driver={ODBC Driver 17 for SQL Server};\"\n",
    "    \"Server=DWH;\"\n",
    "    \"Database=dwOper;\"\n",
    "    \"Trusted_Connection=yes;\")\n",
    "query = f\"\"\"\n",
    "SELECT cu.PartnerUserID                                      AS TOTOID,\n",
    "       cu.UserID                                             AS UserID,\n",
    "       DATEDIFF(YEAR, cu.BirthDate, CAST(GETDATE() AS DATE)) AS Age,\n",
    "       IIF(CAST(cu.RegistrationDate AS DATE) > CAST(su.RegistrationDate AS DATE), CAST(su.RegistrationDate AS DATE),\n",
    "           CAST(cu.RegistrationDate AS DATE))                AS RegDate\n",
    "FROM VIEW_PlatformPartnerUsers_TotogamingAm cu\n",
    "    LEFT JOIN VIEW_sport_PartnerUser_TotogamingAm su ON cu.PartnerUserId = su.PartnerUserId\n",
    "WHERE cu.RegistrationDate >= '2021-01-01'\n",
    "  AND DATEDIFF(DAY, CAST(su.RegistrationDate AS DATE), CAST(cu.RegistrationDate AS DATE)) <= 5\n",
    "  AND DATEDIFF(DAY, CAST(su.RegistrationDate AS DATE), CAST(cu.RegistrationDate AS DATE)) >= -5\n",
    "GROUP BY cu.PartnerUserID, cu.UserID, cu.RegistrationDate, su.RegistrationDate, DATEDIFF(YEAR, cu.BirthDate, CAST(GETDATE() AS DATE))\n",
    "\"\"\"\n",
    "users_2_years = pd.read_sql(query, cnx, index_col='TOTOID')\n",
    "cnx.close()"
   ],
   "metadata": {
    "collapsed": false
   }
  },
  {
   "cell_type": "code",
   "execution_count": 17,
   "outputs": [
    {
     "data": {
      "text/plain": "             UserID  Age     RegDate\nTOTOID                              \n101042653  15277121   61  2021-01-10\n101071813  16402507   43  2021-03-08\n101090251  17159464   38  2021-04-14\n101118244  19126297   44  2021-07-19\n101128442  19947246   30  2021-08-27\n...             ...  ...         ...\n101130273  20113053   28  2021-09-04\n101127295  19869165   26  2021-08-23\n101095966  17450122   34  2021-04-29\n101043287  15297779   46  2021-01-11\n101171943  23326639   39  2022-01-15\n\n[187497 rows x 3 columns]",
      "text/html": "<div>\n<style scoped>\n    .dataframe tbody tr th:only-of-type {\n        vertical-align: middle;\n    }\n\n    .dataframe tbody tr th {\n        vertical-align: top;\n    }\n\n    .dataframe thead th {\n        text-align: right;\n    }\n</style>\n<table border=\"1\" class=\"dataframe\">\n  <thead>\n    <tr style=\"text-align: right;\">\n      <th></th>\n      <th>UserID</th>\n      <th>Age</th>\n      <th>RegDate</th>\n    </tr>\n    <tr>\n      <th>TOTOID</th>\n      <th></th>\n      <th></th>\n      <th></th>\n    </tr>\n  </thead>\n  <tbody>\n    <tr>\n      <th>101042653</th>\n      <td>15277121</td>\n      <td>61</td>\n      <td>2021-01-10</td>\n    </tr>\n    <tr>\n      <th>101071813</th>\n      <td>16402507</td>\n      <td>43</td>\n      <td>2021-03-08</td>\n    </tr>\n    <tr>\n      <th>101090251</th>\n      <td>17159464</td>\n      <td>38</td>\n      <td>2021-04-14</td>\n    </tr>\n    <tr>\n      <th>101118244</th>\n      <td>19126297</td>\n      <td>44</td>\n      <td>2021-07-19</td>\n    </tr>\n    <tr>\n      <th>101128442</th>\n      <td>19947246</td>\n      <td>30</td>\n      <td>2021-08-27</td>\n    </tr>\n    <tr>\n      <th>...</th>\n      <td>...</td>\n      <td>...</td>\n      <td>...</td>\n    </tr>\n    <tr>\n      <th>101130273</th>\n      <td>20113053</td>\n      <td>28</td>\n      <td>2021-09-04</td>\n    </tr>\n    <tr>\n      <th>101127295</th>\n      <td>19869165</td>\n      <td>26</td>\n      <td>2021-08-23</td>\n    </tr>\n    <tr>\n      <th>101095966</th>\n      <td>17450122</td>\n      <td>34</td>\n      <td>2021-04-29</td>\n    </tr>\n    <tr>\n      <th>101043287</th>\n      <td>15297779</td>\n      <td>46</td>\n      <td>2021-01-11</td>\n    </tr>\n    <tr>\n      <th>101171943</th>\n      <td>23326639</td>\n      <td>39</td>\n      <td>2022-01-15</td>\n    </tr>\n  </tbody>\n</table>\n<p>187497 rows × 3 columns</p>\n</div>"
     },
     "execution_count": 17,
     "metadata": {},
     "output_type": "execute_result"
    }
   ],
   "source": [
    "users_2_years"
   ],
   "metadata": {
    "collapsed": false
   }
  },
  {
   "cell_type": "code",
   "execution_count": null,
   "outputs": [],
   "source": [],
   "metadata": {
    "collapsed": false
   }
  }
 ],
 "metadata": {
  "kernelspec": {
   "display_name": "Python 3",
   "language": "python",
   "name": "python3"
  },
  "language_info": {
   "codemirror_mode": {
    "name": "ipython",
    "version": 2
   },
   "file_extension": ".py",
   "mimetype": "text/x-python",
   "name": "python",
   "nbconvert_exporter": "python",
   "pygments_lexer": "ipython2",
   "version": "2.7.6"
  }
 },
 "nbformat": 4,
 "nbformat_minor": 0
}
