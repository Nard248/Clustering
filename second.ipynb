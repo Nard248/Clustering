{
 "cells": [
  {
   "cell_type": "code",
   "execution_count": 2,
   "metadata": {
    "collapsed": true
   },
   "outputs": [],
   "source": [
    "import numpy as np\n",
    "import pandas as pd\n",
    "import matplotlib.pyplot as plt\n",
    "import seaborn as sns\n",
    "import pyodbc\n",
    "import warnings\n",
    "\n",
    "warnings.filterwarnings(\"ignore\")"
   ]
  },
  {
   "cell_type": "markdown",
   "source": [
    "## Users With Reg Date\n",
    "TOTOID, UserID, Registration Date, Age"
   ],
   "metadata": {
    "collapsed": false
   }
  },
  {
   "cell_type": "code",
   "execution_count": 2,
   "outputs": [
    {
     "data": {
      "text/plain": "           DepositCount  DepositAmount  Age     Category  One_game Second_game\nTOTOID                                                                        \n100377572            21         5200.0   24        Slots      True  Betongames\n100377577            96       274170.0   57       Sports      True  Betongames\n100377612            33       248372.0   45          P2P      True       Slots\n100377613           143       443500.0   59        Slots      True  Betongames\n100377617           500      2797000.0   42        Slots      True         NaN\n...                 ...            ...  ...          ...       ...         ...\n101242827             2         3000.0   26  Live Casino      True       Slots\n101242831             1        10000.0   64        Slots      True  Betongames\n101242837             1         1000.0   37        Slots     False  Betongames\n101242839             1         1000.0   21   Betongames      True       Slots\n101242845             2         3500.0   58        Slots      True  Betongames\n\n[168327 rows x 6 columns]",
      "text/html": "<div>\n<style scoped>\n    .dataframe tbody tr th:only-of-type {\n        vertical-align: middle;\n    }\n\n    .dataframe tbody tr th {\n        vertical-align: top;\n    }\n\n    .dataframe thead th {\n        text-align: right;\n    }\n</style>\n<table border=\"1\" class=\"dataframe\">\n  <thead>\n    <tr style=\"text-align: right;\">\n      <th></th>\n      <th>DepositCount</th>\n      <th>DepositAmount</th>\n      <th>Age</th>\n      <th>Category</th>\n      <th>One_game</th>\n      <th>Second_game</th>\n    </tr>\n    <tr>\n      <th>TOTOID</th>\n      <th></th>\n      <th></th>\n      <th></th>\n      <th></th>\n      <th></th>\n      <th></th>\n    </tr>\n  </thead>\n  <tbody>\n    <tr>\n      <th>100377572</th>\n      <td>21</td>\n      <td>5200.0</td>\n      <td>24</td>\n      <td>Slots</td>\n      <td>True</td>\n      <td>Betongames</td>\n    </tr>\n    <tr>\n      <th>100377577</th>\n      <td>96</td>\n      <td>274170.0</td>\n      <td>57</td>\n      <td>Sports</td>\n      <td>True</td>\n      <td>Betongames</td>\n    </tr>\n    <tr>\n      <th>100377612</th>\n      <td>33</td>\n      <td>248372.0</td>\n      <td>45</td>\n      <td>P2P</td>\n      <td>True</td>\n      <td>Slots</td>\n    </tr>\n    <tr>\n      <th>100377613</th>\n      <td>143</td>\n      <td>443500.0</td>\n      <td>59</td>\n      <td>Slots</td>\n      <td>True</td>\n      <td>Betongames</td>\n    </tr>\n    <tr>\n      <th>100377617</th>\n      <td>500</td>\n      <td>2797000.0</td>\n      <td>42</td>\n      <td>Slots</td>\n      <td>True</td>\n      <td>NaN</td>\n    </tr>\n    <tr>\n      <th>...</th>\n      <td>...</td>\n      <td>...</td>\n      <td>...</td>\n      <td>...</td>\n      <td>...</td>\n      <td>...</td>\n    </tr>\n    <tr>\n      <th>101242827</th>\n      <td>2</td>\n      <td>3000.0</td>\n      <td>26</td>\n      <td>Live Casino</td>\n      <td>True</td>\n      <td>Slots</td>\n    </tr>\n    <tr>\n      <th>101242831</th>\n      <td>1</td>\n      <td>10000.0</td>\n      <td>64</td>\n      <td>Slots</td>\n      <td>True</td>\n      <td>Betongames</td>\n    </tr>\n    <tr>\n      <th>101242837</th>\n      <td>1</td>\n      <td>1000.0</td>\n      <td>37</td>\n      <td>Slots</td>\n      <td>False</td>\n      <td>Betongames</td>\n    </tr>\n    <tr>\n      <th>101242839</th>\n      <td>1</td>\n      <td>1000.0</td>\n      <td>21</td>\n      <td>Betongames</td>\n      <td>True</td>\n      <td>Slots</td>\n    </tr>\n    <tr>\n      <th>101242845</th>\n      <td>2</td>\n      <td>3500.0</td>\n      <td>58</td>\n      <td>Slots</td>\n      <td>True</td>\n      <td>Betongames</td>\n    </tr>\n  </tbody>\n</table>\n<p>168327 rows × 6 columns</p>\n</div>"
     },
     "execution_count": 2,
     "metadata": {},
     "output_type": "execute_result"
    }
   ],
   "source": [
    "indexes = pd.read_csv('model_data.csv', index_col='TOTOID')\n",
    "indexes"
   ],
   "metadata": {
    "collapsed": false
   }
  },
  {
   "cell_type": "code",
   "execution_count": 3,
   "outputs": [],
   "source": [
    "list_of_users = str(tuple(indexes.index))\n",
    "list_of_users = list_of_users.replace('(', '')\n",
    "list_of_users = list_of_users.replace(')', '')"
   ],
   "metadata": {
    "collapsed": false
   }
  },
  {
   "cell_type": "code",
   "execution_count": 6,
   "outputs": [],
   "source": [
    "cnx: pyodbc.Connection = pyodbc.connect(\n",
    "    \"Driver={ODBC Driver 17 for SQL Server};\"\n",
    "    \"Server=DWH;\"\n",
    "    \"Database=dwOper;\"\n",
    "    \"Trusted_Connection=yes;\")\n",
    "query = f\"\"\"\n",
    "SELECT cu.PartnerUserID                                      AS TOTOID,\n",
    "       cu.UserID                                             AS UserID,\n",
    "       DATEDIFF(YEAR, cu.BirthDate, CAST(GETDATE() AS DATE)) AS Age,\n",
    "       IIF(CAST(cu.RegistrationDate AS DATE) > CAST(su.RegistrationDate AS DATE), CAST(su.RegistrationDate AS DATE),\n",
    "           CAST(cu.RegistrationDate AS DATE))                AS RegDate\n",
    "FROM VIEW_PlatformPartnerUsers_TotogamingAm cu\n",
    "    LEFT JOIN VIEW_sport_PartnerUser_TotogamingAm su ON cu.PartnerUserId = su.PartnerUserId\n",
    "WHERE DATEDIFF(DAY, CAST(su.RegistrationDate AS DATE), CAST(cu.RegistrationDate AS DATE)) <= 5\n",
    "  AND DATEDIFF(DAY, CAST(su.RegistrationDate AS DATE), CAST(cu.RegistrationDate AS DATE)) >= -5\n",
    "GROUP BY cu.PartnerUserID, cu.UserID, cu.RegistrationDate, su.RegistrationDate, DATEDIFF(YEAR, cu.BirthDate, CAST(GETDATE() AS DATE))\n",
    "\"\"\"\n",
    "users = pd.read_sql(query, cnx, index_col='TOTOID')\n",
    "cnx.close()"
   ],
   "metadata": {
    "collapsed": false
   }
  },
  {
   "cell_type": "code",
   "execution_count": 7,
   "outputs": [
    {
     "data": {
      "text/plain": "             UserID  Age     RegDate\nTOTOID                              \n100382268   2515062   56  2016-02-06\n100388859   2544045   30  2017-03-13\n100415225   2570323   65  2017-10-20\n100476999   2639932   31  2018-03-11\n100516220   4395801   26  2018-06-10\n...             ...  ...         ...\n100617717   6417443   28  2019-02-07\n100480467   2643602   82  2018-03-18\n101050958  15584515   35  2021-01-26\n100605458   6189507   25  2019-01-14\n100405115   2559360   41  2017-08-30\n\n[706921 rows x 3 columns]",
      "text/html": "<div>\n<style scoped>\n    .dataframe tbody tr th:only-of-type {\n        vertical-align: middle;\n    }\n\n    .dataframe tbody tr th {\n        vertical-align: top;\n    }\n\n    .dataframe thead th {\n        text-align: right;\n    }\n</style>\n<table border=\"1\" class=\"dataframe\">\n  <thead>\n    <tr style=\"text-align: right;\">\n      <th></th>\n      <th>UserID</th>\n      <th>Age</th>\n      <th>RegDate</th>\n    </tr>\n    <tr>\n      <th>TOTOID</th>\n      <th></th>\n      <th></th>\n      <th></th>\n    </tr>\n  </thead>\n  <tbody>\n    <tr>\n      <th>100382268</th>\n      <td>2515062</td>\n      <td>56</td>\n      <td>2016-02-06</td>\n    </tr>\n    <tr>\n      <th>100388859</th>\n      <td>2544045</td>\n      <td>30</td>\n      <td>2017-03-13</td>\n    </tr>\n    <tr>\n      <th>100415225</th>\n      <td>2570323</td>\n      <td>65</td>\n      <td>2017-10-20</td>\n    </tr>\n    <tr>\n      <th>100476999</th>\n      <td>2639932</td>\n      <td>31</td>\n      <td>2018-03-11</td>\n    </tr>\n    <tr>\n      <th>100516220</th>\n      <td>4395801</td>\n      <td>26</td>\n      <td>2018-06-10</td>\n    </tr>\n    <tr>\n      <th>...</th>\n      <td>...</td>\n      <td>...</td>\n      <td>...</td>\n    </tr>\n    <tr>\n      <th>100617717</th>\n      <td>6417443</td>\n      <td>28</td>\n      <td>2019-02-07</td>\n    </tr>\n    <tr>\n      <th>100480467</th>\n      <td>2643602</td>\n      <td>82</td>\n      <td>2018-03-18</td>\n    </tr>\n    <tr>\n      <th>101050958</th>\n      <td>15584515</td>\n      <td>35</td>\n      <td>2021-01-26</td>\n    </tr>\n    <tr>\n      <th>100605458</th>\n      <td>6189507</td>\n      <td>25</td>\n      <td>2019-01-14</td>\n    </tr>\n    <tr>\n      <th>100405115</th>\n      <td>2559360</td>\n      <td>41</td>\n      <td>2017-08-30</td>\n    </tr>\n  </tbody>\n</table>\n<p>706921 rows × 3 columns</p>\n</div>"
     },
     "execution_count": 7,
     "metadata": {},
     "output_type": "execute_result"
    }
   ],
   "source": [
    "users"
   ],
   "metadata": {
    "collapsed": false
   }
  },
  {
   "cell_type": "code",
   "execution_count": 4,
   "outputs": [],
   "source": [],
   "metadata": {
    "collapsed": false
   }
  },
  {
   "cell_type": "markdown",
   "source": [
    "## User first 6 months deposits"
   ],
   "metadata": {
    "collapsed": false
   }
  },
  {
   "cell_type": "code",
   "execution_count": null,
   "outputs": [],
   "source": [
    "cnx: pyodbc.Connection = pyodbc.connect(\n",
    "    \"Driver={ODBC Driver 17 for SQL Server};\"\n",
    "    \"Server=DWH;\"\n",
    "    \"Database=dwOper;\"\n",
    "    \"Trusted_Connection=yes;\")\n",
    "query = f\"\"\"\n",
    "SELECT a.TOTOID          AS TOTOID,\n",
    "    SUM(a.DepositCount)  AS DepositCount,\n",
    "    SUM(a.DepositAmount) AS DepositAmount,\n",
    "    a.EndDate            AS EndDate\n",
    "FROM\n",
    "(SELECT cu.PartnerUserID                                               AS TOTOID,\n",
    "    COUNT(p.PaymentID)                                                 AS DepositCount,\n",
    "    SUM(p.Amount)                                                      AS DepositAmount,\n",
    "    CAST(DATEADD(MONTH, 6, CAST(cu.RegistrationDate AS DATE)) AS DATE) AS EndDate\n",
    "FROM Payment p\n",
    "INNER JOIN VIEW_PlatformPartnerUsers_TotogamingAm cu ON p.UserID = cu.UserID\n",
    "LEFT JOIN C_PaymentSystem sp ON sp.PaymentSystemId = p.PaymentSystemID\n",
    "WHERE CAST(p.modify_date AS DATE) <= CAST(DATEADD(MONTH, 6, CAST(cu.RegistrationDate AS DATE)) AS DATE)\n",
    "\tAND p.PaymentStatusID = 8\n",
    "    AND p.PaymentTypeID = 2\n",
    "    AND p.SourceID = 2 --Casino Source\n",
    "    AND sp.PaymentSystemName NOT IN ('PokerTransfer','TRANSFER')\n",
    "    AND cu.PartnerUserId IN ({list_of_users})\n",
    "GROUP BY cu.PartnerUserID, cu.RegistrationDate\n",
    "\n",
    "UNION ALL\n",
    "\n",
    "SELECT cu.PartnerUserID                                                AS TOTOID,\n",
    "    COUNT(p.PaymentID)                                                 AS DepositCount,\n",
    "    SUM(p.Amount)                                                      AS DepositAmount,\n",
    "    CAST(DATEADD(MONTH, 6, CAST(cu.RegistrationDate AS DATE)) AS DATE) AS EndDate\n",
    "    FROM Payment p\n",
    "INNER JOIN VIEW_sport_PartnerUser_TotogamingAm cu ON p.UserID = cu.UserID\n",
    "LEFT JOIN C_PaymentSystem sp ON sp.PaymentSystemId = p.PaymentSystemID\n",
    "WHERE CAST(p.modify_date AS DATE) <= CAST(DATEADD(MONTH, 6, CAST(cu.RegistrationDate AS DATE)) AS DATE)\n",
    "    AND p.TransactionTypeID IN (62,65,70,73,87,88,102,103,75,71)\n",
    "    AND p.Fund_StatusID IN (3,23,31,53,63,106)\n",
    "    AND p.SourceID = 1  --Sport Source\n",
    "    AND sp.PaymentSystemName NOT IN ('Casino Transfer','BONUS')\n",
    "    AND cu.PartnerUserId IN ({list_of_users})\n",
    "GROUP BY cu.PartnerUserID, cu.RegistrationDate) a\n",
    "GROUP BY a.TOTOID, a.EndDate\n",
    "ORDER BY TOTOID\n",
    "\"\"\"\n",
    "deposits = pd.read_sql(query, cnx, index_col='TOTOID')\n",
    "cnx.close()"
   ],
   "metadata": {
    "collapsed": false,
    "pycharm": {
     "is_executing": true
    }
   }
  },
  {
   "cell_type": "code",
   "execution_count": null,
   "outputs": [],
   "source": [
    "deposits"
   ],
   "metadata": {
    "collapsed": false,
    "pycharm": {
     "is_executing": true
    }
   }
  },
  {
   "cell_type": "markdown",
   "source": [
    "## Bets with Games"
   ],
   "metadata": {
    "collapsed": false
   }
  },
  {
   "cell_type": "code",
   "execution_count": null,
   "outputs": [],
   "source": [
    "cnx: pyodbc.Connection = pyodbc.connect(\n",
    "    \"Driver={ODBC Driver 17 for SQL Server};\"\n",
    "    \"Server=DWH;\"\n",
    "    \"Database=dwOper;\"\n",
    "    \"Trusted_Connection=yes;\")\n",
    "query = f\"\"\"\n",
    "    DROP TABLE IF EXISTS #cg\n",
    "    SELECT cg.GameID,\n",
    "        cg.GameCategoryID,\n",
    "        cg.GameProviderID,\n",
    "        cg.Name_en\n",
    "    INTO #cg\n",
    "    FROM C_Game cg\n",
    "\n",
    "    DROP TABLE IF EXISTS #gc\n",
    "    SELECT gc.GameCategoryID,\n",
    "        gc.GameCategoryName\n",
    "    INTO #gc\n",
    "    FROM C_GameCategory gc\n",
    "\n",
    "    DROP TABLE IF EXISTS #gp\n",
    "    SELECT gp.GameProviderID,\n",
    "        gp.GameProviderName\n",
    "    INTO #gp\n",
    "    FROM C_GameProvider gp\n",
    "\n",
    "    DROP TABLE IF EXISTS #a\n",
    "    SELECT #cg.GameID,\n",
    "        #cg.Name_en,\n",
    "        #gc.GameCategoryName,\n",
    "        #gp.GameProviderName\n",
    "    INTO #a\n",
    "    FROM #cg\n",
    "    LEFT JOIN #gc ON #cg.GameCategoryID = #gc.GameCategoryID\n",
    "    LEFT JOIN #gp ON #cg.GameProviderID = #gp.GameProviderID\n",
    "\n",
    "    DROP TABLE IF EXISTS #cas\n",
    "    SELECT u.PartnerUserID,\n",
    "        count(*) AS BetCount,\n",
    "        SUM(a.BetAmount) AS BetAmount,\n",
    "        g.GameID\n",
    "    INTO #cas\n",
    "    FROM (\n",
    "    SELECT o.UserID,\n",
    "        o.GameID,\n",
    "        (IIF(o.CalculationDate < '2021-03-01', o.OrderAmount,\n",
    "        CASE WHEN cg.GameProviderID IN (48, 10) AND o.TypeId IN (1, 5, 8, 18, 33) THEN o.OrderAmount\n",
    "        WHEN cg.GameProviderID NOT IN (48, 10) THEN o.OrderAmount ELSE 0 END)) AS BetAmount\n",
    "    FROM casino.orders o\n",
    "    INNER JOIN C_Game cg ON cg.GameID = o.GameID\n",
    "    INNER JOIN VIEW_PlatformPartnerUsers_TotogamingAm u ON o.UserID = u.UserID\n",
    "    INNER JOIN C_GameProvider gp ON gp.GameProviderID = cg.GameProviderID\n",
    "    WHERE o.CalculationDate <= CAST(DATEADD(MONTH, 6, CAST(u.RegistrationDate AS DATE)) AS Date)\n",
    "    AND u.PartnerUserId IN ({list_of_users})\n",
    "    AND gp.GameProviderID <> 3\n",
    "    AND OrderStateID IN (2, 3, 5, 6)\n",
    "    AND o.OperationTypeID IN (3, 299)\n",
    "    AND IIF(cg.GameProviderID IN (48, 10)\n",
    "    AND o.CalculationDate < '2021-03-01', o.TypeId, 0) IN (0, 1, 5, 8, 18, 33)\n",
    "    ) a\n",
    "    INNER JOIN C_Game g ON g.GameID = a.GameID\n",
    "    INNER JOIN VIEW_PlatformPartnerUsers_TotogamingAm u ON u.UserID = a.UserID\n",
    "    WHERE u.isDeleted = 0\n",
    "    AND u.UserTypeID NOT IN (1, 20, 3, 21)\n",
    "    AND u.UserName NOT LIKE 'test%'\n",
    "    AND u.UserName NOT LIKE '%TestClient%'\n",
    "    GROUP BY u.PartnerUserID,\n",
    "        g.GameID\n",
    "\n",
    "    SELECT * FROM (SELECT #cas.PartnerUserId AS TOTOID,\n",
    "        SUM(#cas.BetCount) AS Bet_count,\n",
    "        SUM(#cas.BetAmount) AS Bet_amount,\n",
    "        #b.Type AS Category\n",
    "    FROM #cas\n",
    "    LEFT JOIN (SELECT *, (\n",
    "    CASE WHEN #a.Name_en LIKE '%HabaneroJackpot%'\n",
    "        THEN 'Other'\n",
    "    WHEN #a.GameProviderName LIKE '%Kiron%'\n",
    "        THEN 'Virtual Games'\n",
    "    WHEN #a.Name_en LIKE '%Greyhound Racing%'\n",
    "        THEN 'Virtual Games'\n",
    "    WHEN #a.Name_en LIKE '%Penalty Shootout%'\n",
    "        THEN 'Virtual Games'\n",
    "    WHEN #a.Name_en LIKE '%Flat Horse Racing%'\n",
    "        THEN 'Virtual Games'\n",
    "    WHEN #a.Name_en LIKE '%Fantastic League%'\n",
    "        THEN 'Virtual Games'\n",
    "    WHEN #a.Name_en LIKE '%Horse Racing%'\n",
    "        THEN 'Virtual Games'\n",
    "    WHEN #a.Name_en LIKE '%English league%'\n",
    "        THEN 'Virtual Games'\n",
    "    WHEN #a.GameProviderName LIKE '%Digitain%' AND #a.Name_en LIKE '%Football Single Match%'\n",
    "        THEN 'Virtual Games'\n",
    "    WHEN #a.GameProviderName LIKE '%GlobalBet%'\n",
    "        THEN 'Virtual Games'\n",
    "    WHEN #a.GameProviderName LIKE '%GoldenRace%' AND #a.Name_en in ('Keno','Keno Deluxe')\n",
    "        THEN 'TVGames'\n",
    "    WHEN #a.GameProviderName LIKE '%Golden%'\n",
    "        THEN 'Virtual Games'\n",
    "    WHEN #a.GameProviderName LIKE '%EventBet%'\n",
    "        THEN 'Poker'\n",
    "    WHEN #a.GameProviderName LIKE '%Betgames%'\n",
    "        THEN 'TVGames'\n",
    "    WHEN #a.GameProviderName LIKE '%Atmosfera%' AND #a.Name_en in ('Bingo 37','Keno','Bingo 38')\n",
    "        THEN 'TVGames'\n",
    "    WHEN #a.GameProviderName = 'FLG' AND #a.Name_en in ('Keno Gold')\n",
    "        THEN 'TVGames'\n",
    "    WHEN #a.GameProviderName LIKE '%Betongames%'\n",
    "        THEN 'Betongames'\n",
    "    WHEN #a.GameProviderName LIKE '%Evolution%'\n",
    "        THEN 'Live Casino'\n",
    "    WHEN #a.GameProviderName LIKE '%LiveCasino%'\n",
    "        THEN 'Live Casino'\n",
    "    WHEN #a.GameProviderName LIKE '%EzugiOriginal%'\n",
    "        THEN 'Live Casino'\n",
    "    WHEN #a.GameProviderName LIKE '%LuckyStreak%'\n",
    "        THEN 'Live Casino'\n",
    "    WHEN #a.GameProviderName LIKE '%VivoGaming%'\n",
    "        THEN 'Live Casino'\n",
    "    WHEN #a.GameProviderName LIKE '%NetEntLiveCasino%'\n",
    "        THEN 'Live Casino'\n",
    "    WHEN #a.GameProviderName LIKE '%TV Bet%'\n",
    "        THEN 'TVGames'\n",
    "    WHEN #a.GameProviderName LIKE '%BetGames%'\n",
    "        THEN 'TVGames'\n",
    "    WHEN #a.GameCategoryName LIKE '%P2P%'\n",
    "        THEN 'P2P'\n",
    "    WHEN #a.GameProviderName LIKE '%GGPoker%'\n",
    "        THEN 'Poker'\n",
    "    WHEN #a.GameCategoryName LIKE '%Slot%'\n",
    "        THEN 'Slots'\n",
    "    WHEN #a.GameProviderName LIKE '%InBet%'\n",
    "        THEN 'Virtual Games'\n",
    "    WHEN #a.GameProviderName LIKE '%Leap%'\n",
    "        THEN 'Virtual Games'\n",
    "    WHEN #a.GameProviderName LIKE '%Digitain Live Casino%'\n",
    "        THEN 'Live Casino'\n",
    "    WHEN #a.GameProviderName LIKE '%Digitain%'\n",
    "        THEN 'Sport'\n",
    "    WHEN #a.GameProviderName LIKE '%Pragmatic%' AND #a.GameCategoryName LIKE '%Baccarat%'\n",
    "        THEN 'Live Casino'\n",
    "    WHEN #a.GameProviderName LIKE '%Pragmatic%' AND #a.GameCategoryName LIKE '%Blackjack%'\n",
    "        THEN 'Live Casino'\n",
    "    WHEN #a.GameProviderName LIKE '%Pragmatic%' AND #a.GameCategoryName LIKE '%Roulette%'\n",
    "        THEN 'Live Casino'\n",
    "    WHEN #a.GameProviderName LIKE '%Pragmatic%' AND #a.GameCategoryName LIKE '%TV Show%'\n",
    "        THEN 'Live Casino'\n",
    "    WHEN #a.GameProviderName LIKE '%Pragmatic%' AND #a.GameCategoryName LIKE '%GameShow%'\n",
    "        THEN 'Live Casino'\n",
    "    WHEN #a.GameProviderName LIKE '%Pragmatic%' AND #a.Name_en LIKE '%Mega Sic Bo%'\n",
    "        THEN 'Live Casino'\n",
    "    WHEN #a.GameProviderName LIKE '%Pragmatic%' AND #a.Name_en LIKE '%Dragon Tiger%'\n",
    "        THEN 'Live Casino'\n",
    "    WHEN #a.GameProviderName LIKE '%Pragmatic%' AND #a.Name_en LIKE '%Andar Bahar%'\n",
    "        THEN 'Live Casino'\n",
    "    WHEN #a.Name_en LIKE '%Dynamic Roulette 120x%'\n",
    "        THEN 'Live Casino'\n",
    "    WHEN #a.Name_en LIKE '%Live European Roulette%'\n",
    "        THEN 'Live Casino'\n",
    "    WHEN #a.GameProviderName LIKE '%Atmosfera%' AND #a.Name_en LIKE '%Live Roulette%'\n",
    "        THEN 'Live Casino'\n",
    "    WHEN #a.GameProviderName LIKE '%Atmosfera%' AND #a.Name_en LIKE '%Music Wheel%'\n",
    "        THEN 'Live Casino'\n",
    "    WHEN #a.GameProviderName LIKE '%Atmosfera%' AND #a.Name_en LIKE '%Auto Roulette%'\n",
    "        THEN 'Live Casino'\n",
    "    WHEN #a.GameProviderName LIKE '%XPG%'\n",
    "        THEN 'Live Casino'\n",
    "    WHEN #a.GameProviderName LIKE '%EGT%' AND #a.Name_en LIKE '%Onyx Roulette%'\n",
    "        THEN 'Live Casino'\n",
    "    WHEN #a.GameProviderName LIKE '%EGT%' AND #a.Name_en LIKE '%Live Speed Roulette%'\n",
    "        THEN 'Live Casino'\n",
    "    WHEN #a.GameProviderName LIKE '%EGT%' AND #a.Name_en LIKE '%Vegas Roulette 500x%'\n",
    "        THEN 'Live Casino'\n",
    "    WHEN #a.GameProviderName LIKE '%PlayngoArmenia%' AND #a.Name_en LIKE '%European Roulette Pro%'\n",
    "        THEN 'Slots'\n",
    "    WHEN #a.GameProviderName LIKE '%EGT%' AND #a.Name_en LIKE '%Burning Keno Plus%'\n",
    "        THEN 'Slots'\n",
    "    WHEN #a.GameProviderName LIKE '%1x2%' AND #a.Name_en LIKE '%Instant Football%'\n",
    "        THEN 'Virtual Games'\n",
    "    WHEN #a.GameProviderName LIKE '%EGT%' AND #a.Name_en LIKE '%European Roulette%'\n",
    "        THEN 'Slots'\n",
    "    ELSE 'Other'\n",
    "    END) Type\n",
    "    FROM #a ) #b ON #cas.GameID = #b.GameID\n",
    "    GROUP BY #cas.PartnerUserId, #b.Type\n",
    "\n",
    "    UNION ALL\n",
    "\n",
    "    SELECT u.PartnerUserID AS TOTOID,\n",
    "        COUNT(o.OrderID) AS Order_count,\n",
    "        SUM(o.OrderAmount) AS Order_amount,\n",
    "        'Sports' AS Category\n",
    "    FROM VIEW_sport_PartnerUser_TotogamingAm u\n",
    "    INNER JOIN VIEW_sport_Orders_TotogamingAm o ON o.UserID = u.UserID\n",
    "    WHERE o.OrderDate_DT <= CAST(DATEADD(MONTH, 6, CAST(u.RegistrationDate AS DATE)) AS Date)\n",
    "    AND u.PartnerID IN ({list_of_users})\n",
    "    AND o.OrderStateID IN (2, 3, 5, 6)\n",
    "    AND u.UserTypeID NOT IN (1, 20, 3, 21)\n",
    "    AND u.UserName NOT LIKE 'test%'\n",
    "    AND u.UserName NOT LIKE '%TestClient%'\n",
    "    GROUP BY u.PartnerUserId) AS bc\n",
    "    ORDER BY bc.TOTOID\n",
    "    \"\"\"\n",
    "query = 'SET NOCOUNT ON; \\n' + query\n",
    "bets_games = pd.read_sql(query, cnx, index_col='TOTOID')\n",
    "cnx.close()"
   ],
   "metadata": {
    "collapsed": false,
    "pycharm": {
     "is_executing": true
    }
   }
  },
  {
   "cell_type": "code",
   "execution_count": null,
   "outputs": [],
   "source": [
    "bets_games"
   ],
   "metadata": {
    "collapsed": false
   }
  },
  {
   "cell_type": "markdown",
   "source": [
    "## Bet History"
   ],
   "metadata": {
    "collapsed": false
   }
  },
  {
   "cell_type": "code",
   "execution_count": 3,
   "outputs": [
    {
     "ename": "NameError",
     "evalue": "name 'list_of_users' is not defined",
     "output_type": "error",
     "traceback": [
      "\u001B[1;31m---------------------------------------------------------------------------\u001B[0m",
      "\u001B[1;31mNameError\u001B[0m                                 Traceback (most recent call last)",
      "Cell \u001B[1;32mIn [3], line 29\u001B[0m\n\u001B[0;32m      1\u001B[0m cnx: pyodbc\u001B[38;5;241m.\u001B[39mConnection \u001B[38;5;241m=\u001B[39m pyodbc\u001B[38;5;241m.\u001B[39mconnect(\n\u001B[0;32m      2\u001B[0m     \u001B[38;5;124m\"\u001B[39m\u001B[38;5;124mDriver=\u001B[39m\u001B[38;5;124m{\u001B[39m\u001B[38;5;124mODBC Driver 17 for SQL Server};\u001B[39m\u001B[38;5;124m\"\u001B[39m\n\u001B[0;32m      3\u001B[0m     \u001B[38;5;124m\"\u001B[39m\u001B[38;5;124mServer=DWH;\u001B[39m\u001B[38;5;124m\"\u001B[39m\n\u001B[0;32m      4\u001B[0m     \u001B[38;5;124m\"\u001B[39m\u001B[38;5;124mDatabase=dwOper;\u001B[39m\u001B[38;5;124m\"\u001B[39m\n\u001B[0;32m      5\u001B[0m     \u001B[38;5;124m\"\u001B[39m\u001B[38;5;124mTrusted_Connection=yes;\u001B[39m\u001B[38;5;124m\"\u001B[39m)\n\u001B[0;32m      6\u001B[0m query \u001B[38;5;241m=\u001B[39m \u001B[38;5;124mf\u001B[39m\u001B[38;5;124m\"\"\"\u001B[39m\n\u001B[0;32m      7\u001B[0m \u001B[38;5;124mDROP TABLE IF EXISTS #cas\u001B[39m\n\u001B[0;32m      8\u001B[0m \u001B[38;5;124mSELECT u.PartnerUserID,\u001B[39m\n\u001B[0;32m      9\u001B[0m \u001B[38;5;124m       count(*) as BetCount,\u001B[39m\n\u001B[0;32m     10\u001B[0m \u001B[38;5;124m       SUM(a.BetAmount) AS BetAmount,\u001B[39m\n\u001B[0;32m     11\u001B[0m \u001B[38;5;124m       a.Date,\u001B[39m\n\u001B[0;32m     12\u001B[0m \u001B[38;5;124m       a.EndDate\u001B[39m\n\u001B[0;32m     13\u001B[0m \u001B[38;5;124mINTO #cas\u001B[39m\n\u001B[0;32m     14\u001B[0m \u001B[38;5;124mFROM (SELECT o.UserID,\u001B[39m\n\u001B[0;32m     15\u001B[0m \u001B[38;5;124m             o.GameID,\u001B[39m\n\u001B[0;32m     16\u001B[0m \u001B[38;5;124m             (IIF(o.CalculationDate < \u001B[39m\u001B[38;5;124m'\u001B[39m\u001B[38;5;124m2021-03-01\u001B[39m\u001B[38;5;124m'\u001B[39m\u001B[38;5;124m, o.OrderAmount,\u001B[39m\n\u001B[0;32m     17\u001B[0m \u001B[38;5;124m                  CASE\u001B[39m\n\u001B[0;32m     18\u001B[0m \u001B[38;5;124m                      WHEN cg.GameProviderID IN (48, 10) AND o.TypeId IN (1, 5, 8, 18, 33) THEN o.OrderAmount\u001B[39m\n\u001B[0;32m     19\u001B[0m \u001B[38;5;124m                      WHEN cg.GameProviderID NOT IN (48, 10) THEN o.OrderAmount\u001B[39m\n\u001B[0;32m     20\u001B[0m \u001B[38;5;124m                      ELSE 0 END))           AS BetAmount,\u001B[39m\n\u001B[0;32m     21\u001B[0m \u001B[38;5;124m             o.CalculationDate_DT AS Date,\u001B[39m\n\u001B[0;32m     22\u001B[0m \u001B[38;5;124m             CAST(DATEADD(MONTH, 6, CAST(u.RegistrationDate AS DATE)) AS Date) AS EndDate\u001B[39m\n\u001B[0;32m     23\u001B[0m \u001B[38;5;124m      FROM casino.orders o\u001B[39m\n\u001B[0;32m     24\u001B[0m \u001B[38;5;124m               INNER JOIN C_Game cg ON cg.GameID = o.GameID\u001B[39m\n\u001B[0;32m     25\u001B[0m \u001B[38;5;124m               INNER JOIN VIEW_PlatformPartnerUsers_TotogamingAm u ON o.UserID = u.UserID\u001B[39m\n\u001B[0;32m     26\u001B[0m \u001B[38;5;124m               INNER JOIN C_GameProvider gp ON gp.GameProviderID = cg.GameProviderID\u001B[39m\n\u001B[0;32m     27\u001B[0m \u001B[38;5;124m      WHERE o.CalculationDate <= CAST(DATEADD(MONTH, 6, CAST(u.RegistrationDate AS DATE)) AS Date)\u001B[39m\n\u001B[0;32m     28\u001B[0m \u001B[38;5;124m        AND gp.GameProviderID <> 3\u001B[39m\n\u001B[1;32m---> 29\u001B[0m \u001B[38;5;124m        AND u.PartnerUserId IN (\u001B[39m\u001B[38;5;132;01m{\u001B[39;00m\u001B[43mlist_of_users\u001B[49m\u001B[38;5;132;01m}\u001B[39;00m\u001B[38;5;124m)\u001B[39m\n\u001B[0;32m     30\u001B[0m \u001B[38;5;124m        AND OrderStateID IN (2, 3, 5, 6)\u001B[39m\n\u001B[0;32m     31\u001B[0m \u001B[38;5;124m        AND o.OperationTypeID IN (3, 299)\u001B[39m\n\u001B[0;32m     32\u001B[0m \u001B[38;5;124m        AND IIF(cg.GameProviderID IN (48, 10)\u001B[39m\n\u001B[0;32m     33\u001B[0m \u001B[38;5;124m                    AND o.CalculationDate < \u001B[39m\u001B[38;5;124m'\u001B[39m\u001B[38;5;124m2021-03-01\u001B[39m\u001B[38;5;124m'\u001B[39m\u001B[38;5;124m, o.TypeId, 0) IN (0, 1, 5, 8, 18, 33)) a\u001B[39m\n\u001B[0;32m     34\u001B[0m \u001B[38;5;124mINNER JOIN VIEW_PlatformPartnerUsers_TotogamingAm u ON u.UserID = a.UserID\u001B[39m\n\u001B[0;32m     35\u001B[0m \u001B[38;5;124mWHERE u.isDeleted = 0\u001B[39m\n\u001B[0;32m     36\u001B[0m \u001B[38;5;124m  AND u.UserTypeID NOT IN (1, 20, 3, 21)\u001B[39m\n\u001B[0;32m     37\u001B[0m \u001B[38;5;124m  AND u.UserName NOT LIKE \u001B[39m\u001B[38;5;124m'\u001B[39m\u001B[38;5;124mtest%\u001B[39m\u001B[38;5;124m'\u001B[39m\n\u001B[0;32m     38\u001B[0m \u001B[38;5;124m  AND u.UserName NOT LIKE \u001B[39m\u001B[38;5;124m'\u001B[39m\u001B[38;5;124m%TestClient%\u001B[39m\u001B[38;5;124m'\u001B[39m\n\u001B[0;32m     39\u001B[0m \u001B[38;5;124mGROUP BY u.PartnerUserID,\u001B[39m\n\u001B[0;32m     40\u001B[0m \u001B[38;5;124m         a.Date\u001B[39m\n\u001B[0;32m     41\u001B[0m \n\u001B[0;32m     42\u001B[0m \u001B[38;5;124mSELECT * FROM (\u001B[39m\n\u001B[0;32m     43\u001B[0m \u001B[38;5;124mSELECT #cas.PartnerUserId  AS TOTOID,\u001B[39m\n\u001B[0;32m     44\u001B[0m \u001B[38;5;124m       #cas.Date           AS Date,\u001B[39m\n\u001B[0;32m     45\u001B[0m \u001B[38;5;124m       SUM(#cas.BetCount)  AS Bet_count,\u001B[39m\n\u001B[0;32m     46\u001B[0m \u001B[38;5;124m       SUM(#cas.BetAmount) AS Bet_amount,\u001B[39m\n\u001B[0;32m     47\u001B[0m \u001B[38;5;124m       #cas.EndDate        AS EndDate\u001B[39m\n\u001B[0;32m     48\u001B[0m \u001B[38;5;124mFROM #cas\u001B[39m\n\u001B[0;32m     49\u001B[0m \u001B[38;5;124mGROUP BY #cas.PartnerUserId, #cas.Date, #cas.EndDate\u001B[39m\n\u001B[0;32m     50\u001B[0m \n\u001B[0;32m     51\u001B[0m \u001B[38;5;124mUNION ALL\u001B[39m\n\u001B[0;32m     52\u001B[0m \n\u001B[0;32m     53\u001B[0m \u001B[38;5;124mSELECT u.PartnerUserID               AS TOTOID,\u001B[39m\n\u001B[0;32m     54\u001B[0m \u001B[38;5;124m       o.OrderDate_DT                AS DATE ,\u001B[39m\n\u001B[0;32m     55\u001B[0m \u001B[38;5;124m       COUNT(o.OrderID)              AS Bet_count,\u001B[39m\n\u001B[0;32m     56\u001B[0m \u001B[38;5;124m       SUM(o.OrderAmount)            AS Bet_amount,\u001B[39m\n\u001B[0;32m     57\u001B[0m \u001B[38;5;124m       CAST(DATEADD(MONTH, 6, CAST(u.RegistrationDate AS DATE)) AS Date) AS EndDate\u001B[39m\n\u001B[0;32m     58\u001B[0m \u001B[38;5;124mFROM VIEW_sport_PartnerUser_TotogamingAm u\u001B[39m\n\u001B[0;32m     59\u001B[0m \u001B[38;5;124m         INNER JOIN VIEW_sport_Orders_TotogamingAm o ON o.UserID = u.UserID\u001B[39m\n\u001B[0;32m     60\u001B[0m \u001B[38;5;124mWHERE o.OrderDate_DT <= CAST(DATEADD(MONTH, 6, CAST(u.RegistrationDate AS DATE)) AS Date)\u001B[39m\n\u001B[0;32m     61\u001B[0m \u001B[38;5;124m  AND o.OrderStateID IN (2, 3, 5, 6)\u001B[39m\n\u001B[0;32m     62\u001B[0m \u001B[38;5;124m  AND u.PartnerUserId IN (\u001B[39m\u001B[38;5;132;01m{\u001B[39;00mlist_of_users\u001B[38;5;132;01m}\u001B[39;00m\u001B[38;5;124m)\u001B[39m\n\u001B[0;32m     63\u001B[0m \u001B[38;5;124m  AND u.UserTypeID NOT IN (1, 20, 3, 21)\u001B[39m\n\u001B[0;32m     64\u001B[0m \u001B[38;5;124m  AND u.UserName NOT LIKE \u001B[39m\u001B[38;5;124m'\u001B[39m\u001B[38;5;124mtest%\u001B[39m\u001B[38;5;124m'\u001B[39m\n\u001B[0;32m     65\u001B[0m \u001B[38;5;124m  AND u.UserName NOT LIKE \u001B[39m\u001B[38;5;124m'\u001B[39m\u001B[38;5;124m%TestClient%\u001B[39m\u001B[38;5;124m'\u001B[39m\n\u001B[0;32m     66\u001B[0m \u001B[38;5;124mGROUP BY u.PartnerUserId, o.OrderDate_DT, u.RegistrationDate) AS bc\u001B[39m\n\u001B[0;32m     67\u001B[0m \u001B[38;5;124mORDER BY bc.TOTOID\u001B[39m\n\u001B[0;32m     68\u001B[0m \u001B[38;5;124m\"\"\"\u001B[39m\n\u001B[0;32m     69\u001B[0m query \u001B[38;5;241m=\u001B[39m \u001B[38;5;124m'\u001B[39m\u001B[38;5;124mSET NOCOUNT ON; \u001B[39m\u001B[38;5;130;01m\\n\u001B[39;00m\u001B[38;5;124m'\u001B[39m \u001B[38;5;241m+\u001B[39m query\n\u001B[0;32m     70\u001B[0m bets \u001B[38;5;241m=\u001B[39m pd\u001B[38;5;241m.\u001B[39mread_sql(query, cnx, index_col\u001B[38;5;241m=\u001B[39m\u001B[38;5;124m'\u001B[39m\u001B[38;5;124mTOTOID\u001B[39m\u001B[38;5;124m'\u001B[39m)\n",
      "\u001B[1;31mNameError\u001B[0m: name 'list_of_users' is not defined"
     ]
    }
   ],
   "source": [
    "cnx: pyodbc.Connection = pyodbc.connect(\n",
    "    \"Driver={ODBC Driver 17 for SQL Server};\"\n",
    "    \"Server=DWH;\"\n",
    "    \"Database=dwOper;\"\n",
    "    \"Trusted_Connection=yes;\")\n",
    "query = f\"\"\"\n",
    "DROP TABLE IF EXISTS #cas\n",
    "SELECT u.PartnerUserID,\n",
    "       count(*) as BetCount,\n",
    "       SUM(a.BetAmount) AS BetAmount,\n",
    "       a.Date,\n",
    "       a.EndDate\n",
    "INTO #cas\n",
    "FROM (SELECT o.UserID,\n",
    "             o.GameID,\n",
    "             (IIF(o.CalculationDate < '2021-03-01', o.OrderAmount,\n",
    "                  CASE\n",
    "                      WHEN cg.GameProviderID IN (48, 10) AND o.TypeId IN (1, 5, 8, 18, 33) THEN o.OrderAmount\n",
    "                      WHEN cg.GameProviderID NOT IN (48, 10) THEN o.OrderAmount\n",
    "                      ELSE 0 END))           AS BetAmount,\n",
    "             o.CalculationDate_DT AS Date,\n",
    "             CAST(DATEADD(MONTH, 6, CAST(u.RegistrationDate AS DATE)) AS Date) AS EndDate\n",
    "      FROM casino.orders o\n",
    "               INNER JOIN C_Game cg ON cg.GameID = o.GameID\n",
    "               INNER JOIN VIEW_PlatformPartnerUsers_TotogamingAm u ON o.UserID = u.UserID\n",
    "               INNER JOIN C_GameProvider gp ON gp.GameProviderID = cg.GameProviderID\n",
    "      WHERE o.CalculationDate <= CAST(DATEADD(MONTH, 6, CAST(u.RegistrationDate AS DATE)) AS Date)\n",
    "        AND gp.GameProviderID <> 3\n",
    "        AND u.PartnerUserId IN ({list_of_users})\n",
    "        AND OrderStateID IN (2, 3, 5, 6)\n",
    "        AND o.OperationTypeID IN (3, 299)\n",
    "        AND IIF(cg.GameProviderID IN (48, 10)\n",
    "                    AND o.CalculationDate < '2021-03-01', o.TypeId, 0) IN (0, 1, 5, 8, 18, 33)) a\n",
    "INNER JOIN VIEW_PlatformPartnerUsers_TotogamingAm u ON u.UserID = a.UserID\n",
    "WHERE u.isDeleted = 0\n",
    "  AND u.UserTypeID NOT IN (1, 20, 3, 21)\n",
    "  AND u.UserName NOT LIKE 'test%'\n",
    "  AND u.UserName NOT LIKE '%TestClient%'\n",
    "GROUP BY u.PartnerUserID,\n",
    "         a.Date\n",
    "\n",
    "SELECT * FROM (\n",
    "SELECT #cas.PartnerUserId  AS TOTOID,\n",
    "       #cas.Date           AS Date,\n",
    "       SUM(#cas.BetCount)  AS Bet_count,\n",
    "       SUM(#cas.BetAmount) AS Bet_amount,\n",
    "       #cas.EndDate        AS EndDate\n",
    "FROM #cas\n",
    "GROUP BY #cas.PartnerUserId, #cas.Date, #cas.EndDate\n",
    "\n",
    "UNION ALL\n",
    "\n",
    "SELECT u.PartnerUserID               AS TOTOID,\n",
    "       o.OrderDate_DT                AS DATE ,\n",
    "       COUNT(o.OrderID)              AS Bet_count,\n",
    "       SUM(o.OrderAmount)            AS Bet_amount,\n",
    "       CAST(DATEADD(MONTH, 6, CAST(u.RegistrationDate AS DATE)) AS Date) AS EndDate\n",
    "FROM VIEW_sport_PartnerUser_TotogamingAm u\n",
    "         INNER JOIN VIEW_sport_Orders_TotogamingAm o ON o.UserID = u.UserID\n",
    "WHERE o.OrderDate_DT <= CAST(DATEADD(MONTH, 6, CAST(u.RegistrationDate AS DATE)) AS Date)\n",
    "  AND o.OrderStateID IN (2, 3, 5, 6)\n",
    "  AND u.PartnerUserId IN ({list_of_users})\n",
    "  AND u.UserTypeID NOT IN (1, 20, 3, 21)\n",
    "  AND u.UserName NOT LIKE 'test%'\n",
    "  AND u.UserName NOT LIKE '%TestClient%'\n",
    "GROUP BY u.PartnerUserId, o.OrderDate_DT, u.RegistrationDate) AS bc\n",
    "ORDER BY bc.TOTOID\n",
    "\"\"\"\n",
    "query = 'SET NOCOUNT ON; \\n' + query\n",
    "bets = pd.read_sql(query, cnx, index_col='TOTOID')\n",
    "cnx.close()"
   ],
   "metadata": {
    "collapsed": false
   }
  },
  {
   "cell_type": "code",
   "execution_count": null,
   "outputs": [],
   "source": [
    "bets"
   ],
   "metadata": {
    "collapsed": false
   }
  },
  {
   "cell_type": "markdown",
   "source": [
    "## Deposits History"
   ],
   "metadata": {
    "collapsed": false
   }
  },
  {
   "cell_type": "code",
   "execution_count": null,
   "outputs": [],
   "source": [
    "cnx: pyodbc.Connection = pyodbc.connect(\n",
    "    \"Driver={ODBC Driver 17 for SQL Server};\"\n",
    "    \"Server=DWH;\"\n",
    "    \"Database=dwOper;\"\n",
    "    \"Trusted_Connection=yes;\")\n",
    "query = f\"\"\"\n",
    "SELECT a.TOTOID,\n",
    "    SUM(a.DepositCount) AS DepositCount,\n",
    "    SUM(a.DepositAmount) AS DepositAmount,\n",
    "    a.DepositDate AS Date\n",
    "FROM\n",
    "(SELECT cu.PartnerUserID AS TOTOID,\n",
    "    COUNT(p.PaymentID) DepositCount,\n",
    "    SUM(p.Amount) DepositAmount,\n",
    "    CAST(p.modify_date AS DATE) AS DepositDate\n",
    "FROM Payment p\n",
    "INNER JOIN VIEW_PlatformPartnerUsers_TotogamingAm cu ON p.UserID = cu.UserID\n",
    "LEFT JOIN C_PaymentSystem sp ON sp.PaymentSystemId = p.PaymentSystemID\n",
    "WHERE CAST(p.modify_date AS DATE) <= CAST(DATEADD(MONTH, 6, CAST(cu.RegistrationDate AS DATE)) AS DATE)\n",
    "    AND cu.PartnerUserID IN ({list_of_users})\n",
    "\tAND p.PaymentStatusID = 8\n",
    "    AND p.PaymentTypeID = 2\n",
    "    AND p.SourceID = 2 --Casino Source\n",
    "    AND sp.PaymentSystemName NOT IN ('PokerTransfer','TRANSFER')\n",
    "GROUP BY cu.PartnerUserID, CAST(p.modify_date AS Date)\n",
    "\n",
    "UNION\n",
    "\n",
    "SELECT cu.PartnerUserID AS TOTOID,\n",
    "    COUNT(p.PaymentID) DepositCount,\n",
    "    SUM(p.Amount) DepositAmount,\n",
    "    CAST(p.modify_date AS Date) AS DepositDate\n",
    "FROM Payment p\n",
    "INNER JOIN VIEW_sport_PartnerUser_TotogamingAm cu ON p.UserID = cu.UserID\n",
    "LEFT JOIN C_PaymentSystem sp ON sp.PaymentSystemId = p.PaymentSystemID\n",
    "WHERE CAST(p.modify_date AS DATE) <= CAST(DATEADD(MONTH, 6, CAST(cu.RegistrationDate AS DATE)) AS DATE)\n",
    "\tAND cu.PartnerUserID IN ({list_of_users})\n",
    "    AND p.TransactionTypeID IN (62,65,70,73,87,88,102,103,75,71)\n",
    "    AND p.Fund_StatusID IN (3,23,31,53,63,106)\n",
    "    AND p.SourceID = 1  --Sport Source\n",
    "    AND sp.PaymentSystemName NOT IN ('Casino Transfer','BONUS')\n",
    "GROUP BY cu.PartnerUserID, CAST(p.modify_date AS Date)) a\n",
    "GROUP BY a.TOTOID, a.DepositDate\n",
    "ORDER BY TOTOID\n",
    "\"\"\"\n",
    "query = 'SET NOCOUNT ON; \\n' + query\n",
    "deposit_hist = pd.read_sql(query, cnx, index_col='TOTOID')\n",
    "cnx.close()"
   ],
   "metadata": {
    "collapsed": false
   }
  },
  {
   "cell_type": "code",
   "execution_count": null,
   "outputs": [],
   "source": [
    "deposit_hist"
   ],
   "metadata": {
    "collapsed": false
   }
  },
  {
   "cell_type": "code",
   "execution_count": null,
   "outputs": [],
   "source": [
    "def get_game_attributes(df):\n",
    "    category_arr = []\n",
    "    for i in df.index.unique():\n",
    "        temp = df[df.index == i]\n",
    "        if len(temp) == 1:\n",
    "            category = temp.iloc[0, 2]\n",
    "            category_set = {'TOTOID': i, 'Category': category, 'One_game': True, 'Second_game': None}\n",
    "            category_arr.append(category_set)\n",
    "        else:\n",
    "            largest_amount = temp['Bet_amount'].nlargest(1).values[0]\n",
    "            second_largest = temp['Bet_amount'].nlargest(2).values[1]\n",
    "            thresh = sum(temp['Bet_amount']) * 0.7\n",
    "            fav = temp.query(f\"`Bet_amount` == {largest_amount}\").iloc[0, 2]\n",
    "            second_fav = temp.query(f\"`Bet_amount` == {second_largest}\").iloc[0, 2]\n",
    "            if largest_amount >= thresh:\n",
    "                category_set = {'TOTOID': i, 'Category': fav, 'One_game': True, 'Second_game': second_fav}\n",
    "                category_arr.append(category_set)\n",
    "            else:\n",
    "                category_set = {'TOTOID': i, 'Category': fav, 'One_game': False, 'Second_game': second_fav}\n",
    "                category_arr.append(category_set)\n",
    "    df_ = pd.DataFrame.from_dict(category_arr)\n",
    "    df_.set_index('TOTOID', inplace=True)\n",
    "    return df_"
   ],
   "metadata": {
    "collapsed": false
   }
  },
  {
   "cell_type": "code",
   "execution_count": null,
   "outputs": [],
   "source": [
    "games = get_game_attributes(bets_games)"
   ],
   "metadata": {
    "collapsed": false
   }
  },
  {
   "cell_type": "code",
   "execution_count": null,
   "outputs": [],
   "source": [
    "games"
   ],
   "metadata": {
    "collapsed": false
   }
  },
  {
   "cell_type": "code",
   "execution_count": null,
   "outputs": [],
   "source": [
    "users = users.merge(games, on='TOTOID')"
   ],
   "metadata": {
    "collapsed": false
   }
  },
  {
   "cell_type": "code",
   "execution_count": null,
   "outputs": [],
   "source": [
    "bets.index.unique()"
   ],
   "metadata": {
    "collapsed": false
   }
  },
  {
   "cell_type": "code",
   "execution_count": null,
   "outputs": [],
   "source": [
    "arr = []\n",
    "for i in bets.index.unique():\n",
    "        values = []\n",
    "        temp = bets[bets.index == i].sort_values('Date')\n",
    "        for l in range(len(temp) - 1):\n",
    "            date_1 = temp.iloc[l, 0]\n",
    "            date_2 = temp.iloc[l+1, 0]\n",
    "            delta = date_2 - date_1\n",
    "            values.append(delta.days)\n",
    "        arr.append({'TOTOID':i, 'AVGLag':np.mean(values)})\n",
    "arr"
   ],
   "metadata": {
    "collapsed": false
   }
  },
  {
   "cell_type": "code",
   "execution_count": null,
   "outputs": [],
   "source": [
    "bet_lag = pd.DataFrame.from_dict(arr)"
   ],
   "metadata": {
    "collapsed": false
   }
  },
  {
   "cell_type": "code",
   "execution_count": null,
   "outputs": [],
   "source": [
    "bet_lag"
   ],
   "metadata": {
    "collapsed": false
   }
  },
  {
   "cell_type": "code",
   "execution_count": null,
   "outputs": [],
   "source": [
    "arr = []\n",
    "for i in deposit_hist.index.unique():\n",
    "        values = []\n",
    "        temp = deposit_hist[deposit_hist.index == i].sort_values('Date')\n",
    "        for l in range(len(temp) - 1):\n",
    "            date_1 = temp.iloc[l, 2]\n",
    "            date_2 = temp.iloc[l+1, 2]\n",
    "            delta = date_2 - date_1\n",
    "            values.append(delta.days)\n",
    "        arr.append({'TOTOID':i, 'AVGLag':np.mean(values)})\n",
    "arr"
   ],
   "metadata": {
    "collapsed": false
   }
  },
  {
   "cell_type": "code",
   "execution_count": null,
   "outputs": [],
   "source": [
    "deposit_lag = pd.DataFrame.from_dict(arr)"
   ],
   "metadata": {
    "collapsed": false
   }
  },
  {
   "cell_type": "code",
   "execution_count": null,
   "outputs": [],
   "source": [
    "deposit_lag"
   ],
   "metadata": {
    "collapsed": false
   }
  },
  {
   "cell_type": "code",
   "execution_count": null,
   "outputs": [],
   "source": [],
   "metadata": {
    "collapsed": false
   }
  }
 ],
 "metadata": {
  "kernelspec": {
   "display_name": "Python 3",
   "language": "python",
   "name": "python3"
  },
  "language_info": {
   "codemirror_mode": {
    "name": "ipython",
    "version": 2
   },
   "file_extension": ".py",
   "mimetype": "text/x-python",
   "name": "python",
   "nbconvert_exporter": "python",
   "pygments_lexer": "ipython2",
   "version": "2.7.6"
  }
 },
 "nbformat": 4,
 "nbformat_minor": 0
}
